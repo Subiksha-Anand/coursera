{
 "cells": [
  {
   "cell_type": "markdown",
   "id": "4ce8a5b7-366f-4536-b26a-24a273cea81a",
   "metadata": {},
   "source": [
    "# Data Science Tools And Ecosystem"
   ]
  },
  {
   "cell_type": "markdown",
   "id": "0ef220c4-5041-47b7-9456-24ce6e5b58af",
   "metadata": {},
   "source": [
    "## In this notebook, Data Science Tools and Ecosystem are summarized."
   ]
  },
  {
   "cell_type": "markdown",
   "id": "acbb23dc-2a57-43de-b0ce-80dc0ba2d8e3",
   "metadata": {},
   "source": [
    "### Some of the popular languages that Data Scientists use are:\n",
    "1. Python\n",
    "2. R\n",
    "3. Java\n",
    "4. Julia\n",
    "5. Apache spark"
   ]
  },
  {
   "cell_type": "markdown",
   "id": "075cb0b2-b7b5-4351-828b-249807caccf9",
   "metadata": {},
   "source": [
    "**Objectives**\n",
    "- popular tools used in data science\n",
    "- libraries that are used by data scientist\n",
    "- popular languages used in data science\n",
    "- introduction to github and git"
   ]
  },
  {
   "cell_type": "markdown",
   "id": "23d9bf1c-7a91-4236-b4d6-79827d008cb5",
   "metadata": {},
   "source": [
    "### Some of the commonly used libraries used by Data Scientists include:\n",
    "1. Numpy\n",
    "2. Pandas\n",
    "3. Matplotlib\n",
    "4. Scipy\n",
    "5. Seaborn "
   ]
  },
  {
   "cell_type": "markdown",
   "id": "97edc743-26e2-4632-a067-8dd0c54c2a2e",
   "metadata": {},
   "source": [
    "| Data Science Tools |\n",
    "|---------------------|\n",
    "| Jupyter Notebook |\n",
    "| R Studio |\n",
    "| DAX & MAX |\n"
   ]
  },
  {
   "cell_type": "markdown",
   "id": "a2011665-5c87-40a2-b6e6-f4ad709af19d",
   "metadata": {},
   "source": [
    "### Below are a few examples of evaluating arithmetic expressions in Python"
   ]
  },
  {
   "cell_type": "code",
   "execution_count": 1,
   "id": "4715a460-77d8-491b-ab22-37df6c9e21aa",
   "metadata": {},
   "outputs": [
    {
     "data": {
      "text/plain": [
       "17"
      ]
     },
     "execution_count": 1,
     "metadata": {},
     "output_type": "execute_result"
    }
   ],
   "source": [
    "# this is a simple arithmetic expression to mutiply then add integers\n",
    "(3*4)+5"
   ]
  },
  {
   "cell_type": "code",
   "execution_count": 2,
   "id": "807c73c3-dd0f-4101-ae35-4fb1436ac6fa",
   "metadata": {},
   "outputs": [
    {
     "name": "stdout",
     "output_type": "stream",
     "text": [
      "hour: 3.3333333333333335\n"
     ]
    }
   ],
   "source": [
    "# This will convert 200 minutes to hours by diving by 60\n",
    "minutes=200\n",
    "hour=minutes/60\n",
    "print(\"hour:\",hour)"
   ]
  },
  {
   "cell_type": "markdown",
   "id": "5aa87e0b-f1be-4617-8c6a-e0689a2934be",
   "metadata": {},
   "source": [
    "## Author\n",
    "Subiksha Anand"
   ]
  },
  {
   "cell_type": "code",
   "execution_count": null,
   "id": "3520652e-babe-45df-91cb-b95cd323f73f",
   "metadata": {},
   "outputs": [],
   "source": []
  }
 ],
 "metadata": {
  "kernelspec": {
   "display_name": "Python 3 (ipykernel)",
   "language": "python",
   "name": "python3"
  },
  "language_info": {
   "codemirror_mode": {
    "name": "ipython",
    "version": 3
   },
   "file_extension": ".py",
   "mimetype": "text/x-python",
   "name": "python",
   "nbconvert_exporter": "python",
   "pygments_lexer": "ipython3",
   "version": "3.12.9"
  }
 },
 "nbformat": 4,
 "nbformat_minor": 5
}
